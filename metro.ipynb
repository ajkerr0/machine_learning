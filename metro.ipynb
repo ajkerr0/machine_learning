{
 "cells": [
  {
   "cell_type": "markdown",
   "metadata": {},
   "source": [
    "# A Companion Notebook to *Equation of State Calculations by Fast Computing Machines* by *Metropolis et al.*"
   ]
  },
  {
   "cell_type": "markdown",
   "metadata": {},
   "source": [
    "### Alex Kerr"
   ]
  },
  {
   "cell_type": "code",
   "execution_count": 2,
   "metadata": {
    "collapsed": false
   },
   "outputs": [],
   "source": [
    "%matplotlib inline\n",
    "import matplotlib.pyplot as plt\n",
    "import random\n",
    "import math"
   ]
  },
  {
   "cell_type": "markdown",
   "metadata": {},
   "source": [
    "This notebook serves as a paraphrasing of Section II of the titular paper.  This paper by *Metropolis et al.* develops a method to calculate properties of materials composed of interacting molecules via Monte Carlo integration.  The authors go forward assuming classical statistics, 2D materials, and spherically-symmetric two-body potentials.\n",
    "\n",
    "**Original paper**:\n",
    "\n",
    "Equation of State Calculations by Fast Computing Machines\n",
    "Metropolis, Nicholas and Rosenbluth, Arianna W. and Rosenbluth, Marshall N. and Teller, Augusta H. and Teller, Edward, The Journal of Chemical Physics, 21, 1087-1092 (1953), DOI:http://dx.doi.org/10.1063/1.1699114"
   ]
  },
  {
   "cell_type": "markdown",
   "metadata": {},
   "source": [
    "##General Method for Arbitrary Potential"
   ]
  },
  {
   "cell_type": "markdown",
   "metadata": {},
   "source": [
    "The authors resort to a square spatial environment of side length $ L $ with periodic boundary conditions.  Therefore it is important to define $ d_{AB} $ as the shortest radial distance between particles $ A $ and $ B $ to compute the interations between them.  For example, particles at opposite corners of the square space are not $ \\sqrt2  L $ apart but rather extremely close ( $ d_{AB} < < 1 $ ).  Since the particles' locations will be well-defined we can calculate the potential energy of the system: $$ E = \\frac{1}{2} \\sum_i \\sum_{j \\neq i} V_{ij} (r_{ij} ) $$\n",
    "\n",
    "It is understood that $ r_{ij} $ is the shortest distance between particles $i$ and $j$ ($d_{ij}$).\n",
    "\n",
    "We can calculate the equilibrium value of quantity $ A $ by: $$ \\bar A = \\frac{1}{\\mathcal{Z}} \\int A \\exp(-E/kT) d^{2N}p d^{2N} q $$ where $ \\mathcal{Z} $ is the familiar canonical partition function which serves as the normalization.  Since the interparticular potentials are velocity-independent the momenta integral is cancelled off and we are left with an integration that only depends on the configuration of the particles.  The impracticality of performing the integral as written above is the impetus for this paper.  The authors refer to Monte Carlo integration instead.\n",
    "\n",
    "One way to do the integration would be to randomly place your $ N $ particles in the space, calculate the energy $ E $ of the system, then weigh the configuration by $ \\exp(-E/kT) $.  You would need to keep a running total of both the numerator and denominator of the above equation.  After a satisfactory number of iterations you can enjoy your Monte Carlo approximation.  However this method may not be the most effective since tightly-packed configurations (corresponding to high $ E $) are presumably equally likely to be appear in each of the iterations but do not contribute much to your running sum as $ \\exp(-E/kT) $ would be low.  This is where the authors' modified Monte Carlo approach comes into play: configurations are *chosen* with probability $ \\exp(-E/kT) $ and *weighted* evenly.\n",
    "\n",
    "The method is as follows:\n",
    "\n",
    "1. Begin with $ N $ particles in some initial configuration like a discrete lattice.\n",
    "\n",
    "2. Loop through each particle.  During each iteration:\n",
    "\n",
    "    1. Change the particle's x, y - positions according to the following: $ X \\rightarrow X + \\alpha \\xi_1 $, $ Y \\rightarrow Y + \\alpha \\xi_2 $ where $ \\alpha $ is some predefined max allowed displacement and $ \\xi_i $ is a uniformly distributed random variable between $ -1 $ and $ 1 $.  The effect is each particle is allowed to move within a square centered around its original position.\n",
    "    \n",
    "    2. Calculate the energy of the new configuration ($ E_{n+1}$).\n",
    "    \n",
    "    3. Compare $E_{n+1}$ to $E_{n}$.  There are two possible outcomes:\n",
    "    \n",
    "        * If  $E_{n+1} < E_{n}$:\n",
    "        \n",
    "            * Allow the particle move.\n",
    "            \n",
    "        * If $E_{n+1} > E_{n}$:\n",
    "        \n",
    "            *  Generate a new variable $ \\xi_3 $ that is uniformly distributed from $0$ to $1$.  Calculate $ \\exp(\\Delta E /kT)$. If $ \\xi_3 < \\exp(\\Delta E /kT) $ we allow the particle move.  If $ \\xi_3 > \\exp(\\Delta E /kT) $ then we do not permit the move and we return the particle to its original position.\n",
    "            \n",
    "Whether or not each move is permitted we treat the system as a new configuration after each iteration in order to get the right averages.  With the above algorithm our new equation for $ \\bar F $ becomes: $$ \\bar F = \\frac{1}{M} \\sum^{M}_{n=1}  F_{n} $$ where $ F_{n} $ is the calculated quantity after the $n$th move.\n",
    "\n",
    "The authors spend the next section proving the method works in the theory."
   ]
  },
  {
   "cell_type": "markdown",
   "metadata": {},
   "source": [
    "##Code for General Method"
   ]
  },
  {
   "cell_type": "markdown",
   "metadata": {},
   "source": [
    "I will now present some code to demonstrate the Metropolis algorithm."
   ]
  },
  {
   "cell_type": "code",
   "execution_count": 3,
   "metadata": {
    "collapsed": false
   },
   "outputs": [
    {
     "data": {
      "image/png": "[encoded data removed]",
      "text/plain": [
       "<matplotlib.figure.Figure at 0xb104724c>"
      ]
     },
     "metadata": {},
     "output_type": "display_data"
    }
   ],
   "source": [
    "#define our square environment\n",
    "\n",
    "L = 5.0     #side length of box\n",
    "N = 10      #number of particles in box\n",
    "kB = 1.0    #physical boltzmann constant\n",
    "T = 25.0   #temperature of system\n",
    "\n",
    "#define our initial configuration\n",
    "#I want to use a box with its bottom left corner at the origin\n",
    "\n",
    "def initialize_system():\n",
    "    '''Populate the environment with randomly placed particles.\n",
    "    '''\n",
    "    \n",
    "    posList = []\n",
    "    \n",
    "    for n in range(N):\n",
    "        \n",
    "        x = random.uniform(0,L)\n",
    "        y = random.uniform(0,L)\n",
    "        \n",
    "        nPos = [x,y]\n",
    "        \n",
    "        posList.append(nPos)\n",
    "        \n",
    "    return posList\n",
    "\n",
    "def plot_particles(posList):\n",
    "    \n",
    "    xList = []\n",
    "    yList = []\n",
    "    for i in posList:\n",
    "        x = i[0]\n",
    "        y = i[1]\n",
    "        xList.append(x)\n",
    "        yList.append(y)    \n",
    "    \n",
    "    \n",
    "    fig = plt.figure()\n",
    "    \n",
    "    plt.plot(xList, yList, 'bo')\n",
    "    \n",
    "    fig.suptitle('Particles in the Box', fontsize=18)\n",
    "    plt.axes().set_aspect('equal')\n",
    "    plt.axis((0,L,0,L))\n",
    "    plt.xlabel('x-position', fontsize=13)\n",
    "    plt.ylabel('y-position', fontsize=13)\n",
    "    \n",
    "    plt.show()\n",
    "    \n",
    "initPosList = initialize_system()\n",
    "\n",
    "plot_particles(initPosList)\n",
    "        \n",
    "        \n",
    "    "
   ]
  },
  {
   "cell_type": "code",
   "execution_count": 4,
   "metadata": {
    "collapsed": false
   },
   "outputs": [],
   "source": [
    "#define some more functions we will need\n",
    "\n",
    "def calculate_distance(posi, posj):\n",
    "    '''Calculate the shortest distance between 2 positions, understanding periodic conditions\n",
    "    '''\n",
    "    #x, y positions of particle i,j\n",
    "    xi = posi[0]\n",
    "    yi = posi[1]\n",
    "    xj = posj[0]\n",
    "    yj = posj[1]\n",
    "    \n",
    "    #x,y distances between i and j as measured using box coordinates\n",
    "    dx = xi - xj\n",
    "    dy = yi - yj\n",
    "    \n",
    "    #if i and j are separated by more than half of the box length,\n",
    "    #then their shortest distance is through the boundary\n",
    "    if dx > L/2.0:\n",
    "        dx = dx - L\n",
    "    elif dx <= -L/2.0:\n",
    "        dx = dx + L\n",
    "    else:\n",
    "        pass\n",
    "        \n",
    "    #similarly for y\n",
    "    if dy > L/2.0:\n",
    "        dy = dy - L\n",
    "    elif dy <= -L/2.0:\n",
    "        dx = dx + L\n",
    "    else:\n",
    "        pass\n",
    "        \n",
    "    rij = math.sqrt(dx*dx + dy*dy)\n",
    "    \n",
    "    return rij\n",
    "    \n",
    "def correct_position(posi):\n",
    "    '''For each coordinate, if the position goes beyond the boundary we move it to the corresponding position\n",
    "    on the other side of the system to enforce the periodic boundary conditions.\n",
    "    '''\n",
    "    \n",
    "    xi = posi[0]\n",
    "    yi = posi[1]\n",
    "    \n",
    "    if xi < 0:\n",
    "        xi += L\n",
    "    elif xi >= L:\n",
    "        xi -= L\n",
    "    else:\n",
    "        pass\n",
    "    \n",
    "    if yi < 0:\n",
    "        yi += L\n",
    "    elif yi >= L:\n",
    "        yi -= L\n",
    "    else:\n",
    "        pass\n",
    "    \n",
    "    newPosi = [xi,yi]\n",
    "    \n",
    "    return newPosi\n",
    "    \n",
    "def move_particle(posi):\n",
    "    '''Return a position that is equally likely to be in a square centered on the original position.\n",
    "    '''\n",
    "    \n",
    "    alpha = 1.0\n",
    "    \n",
    "    x = posi[0]\n",
    "    y = posi[1]\n",
    "    \n",
    "    dx = random.uniform(-1.0, 1.0)\n",
    "    dy = random.uniform(-1.0, 1.0)\n",
    "    \n",
    "    x += alpha*dx\n",
    "    y += alpha*dy\n",
    "    \n",
    "    pos = [x,y]\n",
    "    \n",
    "    newPos = correct_position(pos)\n",
    "    \n",
    "    return newPos\n",
    "\n",
    "def calculate_energy(posList):\n",
    "    '''Calculate the energy of the configuration.  We will use a Coulombic potential\n",
    "    with an effective cutoff function.\n",
    "    '''\n",
    "    \n",
    "    #Coulombic potential terms\n",
    "    k = 1.0\n",
    "    fij = 2.0 #cutoff distance\n",
    "    \n",
    "    #running energy total\n",
    "    e = 0.0\n",
    "    \n",
    "    icounter = 0\n",
    "    \n",
    "    for i in posList:\n",
    "        \n",
    "        vi = 0.0\n",
    "        \n",
    "        jcounter = 0\n",
    "        \n",
    "        for j in posList:\n",
    "            \n",
    "            if icounter != jcounter:\n",
    "                #calculate distance\n",
    "                \n",
    "                rij = calculate_distance(i,j)\n",
    "                \n",
    "                #print rij\n",
    "                \n",
    "                if rij < fij:\n",
    "                    #calculate energy\n",
    "                    \n",
    "                    vij = k/rij\n",
    "                    \n",
    "                    vi += vij\n",
    "                    \n",
    "                else:\n",
    "                    #do nothing\n",
    "                    pass\n",
    "                    \n",
    "            else:\n",
    "                #do nothing\n",
    "                pass\n",
    "            \n",
    "            jcounter += 1\n",
    "            \n",
    "        e += vi\n",
    "        \n",
    "        icounter += 1\n",
    "        \n",
    "    e = 0.5*e\n",
    "    \n",
    "    return e"
   ]
  },
  {
   "cell_type": "markdown",
   "metadata": {},
   "source": [
    "Let's put it all together"
   ]
  },
  {
   "cell_type": "code",
   "execution_count": 5,
   "metadata": {
    "collapsed": false
   },
   "outputs": [],
   "source": [
    "#calculation for a quantity average\n",
    "\n",
    "#define quantity to be calculated\n",
    "calculate_a = calculate_energy     #function to calculate quantity of interest\n",
    "aList = []                         #keep track of values for A\n",
    "\n",
    "loop = 20  #number of times to loop through each particle\n",
    "\n",
    "#initial system\n",
    "ePrev = calculate_energy(initPosList)\n",
    "posList = initPosList\n",
    "\n",
    "#used to normalize the quantity calculation\n",
    "mcounter = 0\n",
    "\n",
    "for z in range(loop):\n",
    "    \n",
    "    icounter = 0\n",
    "    for i in posList:\n",
    "        \n",
    "        testList = list(posList)\n",
    "        \n",
    "        posi = testList[icounter]\n",
    "        \n",
    "        newPos = move_particle(posi)\n",
    "        \n",
    "        testList[icounter] = newPos\n",
    "        \n",
    "        e = calculate_energy(testList)\n",
    "        \n",
    "        A = calculate_a(testList)    #redundant if A = E\n",
    "        \n",
    "        if e <= ePrev:\n",
    "            \n",
    "            posList = testList\n",
    "            \n",
    "        else:\n",
    "            \n",
    "            p = random.uniform(0,1)\n",
    "            \n",
    "            de = math.exp((ePrev - e)/kB/T)\n",
    "            \n",
    "            if p <= de:\n",
    "                \n",
    "                posList = testList\n",
    "                \n",
    "            else:\n",
    "                pass\n",
    "            \n",
    "        ePrev = e\n",
    "            \n",
    "        aList.append(A)\n",
    "            \n",
    "        icounter += 1\n",
    "        mcounter += 1\n",
    "        \n"
   ]
  },
  {
   "cell_type": "code",
   "execution_count": 6,
   "metadata": {
    "collapsed": false
   },
   "outputs": [],
   "source": [
    "def plot_time(valueList):\n",
    "    \"\"\"Plot values against interation number/time\n",
    "    \"\"\"  \n",
    "    \n",
    "    tList = range(len(valueList))\n",
    "    \n",
    "    fig = plt.figure()\n",
    "    \n",
    "    plt.plot(tList, valueList, 'ro')\n",
    "    \n",
    "    fig.suptitle('Quantity vs. Iteration', fontsize=18)\n",
    "    plt.xlabel('increment count', fontsize=13)\n",
    "    plt.ylabel('quantity value', fontsize=13)\n",
    "    \n",
    "    plt.show()"
   ]
  },
  {
   "cell_type": "code",
   "execution_count": 7,
   "metadata": {
    "collapsed": false
   },
   "outputs": [
    {
     "data": {
      "image/png": "[encoded data removed]",
      "text/plain": [
       "<matplotlib.figure.Figure at 0xb11c538c>"
      ]
     },
     "metadata": {},
     "output_type": "display_data"
    },
    {
     "data": {
      "image/png": "[encoded data removed]",
      "text/plain": [
       "<matplotlib.figure.Figure at 0xb104754c>"
      ]
     },
     "metadata": {},
     "output_type": "display_data"
    }
   ],
   "source": [
    "plot_particles(posList)\n",
    "plot_time(aList)\n",
    "\n"
   ]
  },
  {
   "cell_type": "markdown",
   "metadata": {},
   "source": [
    "Finally we actually peform our calculation."
   ]
  },
  {
   "cell_type": "code",
   "execution_count": 8,
   "metadata": {
    "collapsed": false
   },
   "outputs": [
    {
     "name": "stdout",
     "output_type": "stream",
     "text": [
      "23.5156567668\n"
     ]
    }
   ],
   "source": [
    "M = float(mcounter)\n",
    "\n",
    "aAverage = sum(aList)/M\n",
    "\n",
    "print aAverage"
   ]
  },
  {
   "cell_type": "markdown",
   "metadata": {},
   "source": [
    "## Miscellaneous "
   ]
  },
  {
   "cell_type": "markdown",
   "metadata": {},
   "source": [
    "You may have noticed that step C from above can be condensed to one if-condition.  Since $ \\exp(\\Delta E /kT)$ corresponds to relative probability: \n",
    "\n",
    "$$ \\exp(\\Delta E /kT) = \\exp(\\frac{E_f - E_i}{kT}) = \\frac{\\exp(E_f /kT)}{\\exp(E_i / kT)} = \\frac{P(\\text{final configuration})}{P(\\text{initial configuration})} $$"
   ]
  },
  {
   "cell_type": "code",
   "execution_count": null,
   "metadata": {
    "collapsed": true
   },
   "outputs": [],
   "source": []
  }
 ],
 "metadata": {
  "kernelspec": {
   "display_name": "Python 2",
   "language": "python",
   "name": "python2"
  },
  "language_info": {
   "codemirror_mode": {
    "name": "ipython",
    "version": 2
   },
   "file_extension": ".py",
   "mimetype": "text/x-python",
   "name": "python",
   "nbconvert_exporter": "python",
   "pygments_lexer": "ipython2",
   "version": "2.7.10"
  }
 },
 "nbformat": 4,
 "nbformat_minor": 0
}
